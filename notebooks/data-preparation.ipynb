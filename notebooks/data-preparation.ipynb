{
 "cells": [
  {
   "cell_type": "markdown",
   "metadata": {},
   "source": [
    "## Read and Rename"
   ]
  },
  {
   "cell_type": "code",
   "execution_count": 90,
   "metadata": {},
   "outputs": [],
   "source": [
    "import pandas as pd\n",
    "import sys\n",
    "sys.path.append('../')\n",
    "from utils.uuid_util import generate_uuid\n",
    "\n",
    "education = pd.read_csv('../data/Cleaned/education/education.csv')\n",
    "employment = pd.read_csv('../data/Cleaned/employment/european_employment_data.csv')\n",
    "socioecono = pd.read_csv('../data/Cleaned/socio/socio.csv')\n",
    "\n",
    "education.rename(columns={'Country Name': 'country_name',\n",
    "                          'Country Code': 'country_code',\n",
    "                          'Indicator Name': 'indicator_name',\n",
    "                          'Value': 'value',\n",
    "                          }, inplace=True)\n",
    "employment.rename(columns={'Country Name': 'country_name',\n",
    "                           'Country Code': 'country_code',\n",
    "                            'Indicator Name': 'indicator_name',\n",
    "                            '2023': 'unemployment_rate',\n",
    "                            }, inplace=True)\n",
    "employment.drop(columns=['Unnamed: 0'], inplace=True)\n",
    "sociecono = socioecono.rename(columns={'country': 'country_name',\n",
    "                                       'wbid': 'country_code',\n",
    "                                       'class': 'socioeconomic_class',\n",
    "                                        }, inplace=True)"
   ]
  },
  {
   "cell_type": "markdown",
   "metadata": {},
   "source": [
    "## Indicator Selection"
   ]
  },
  {
   "cell_type": "code",
   "execution_count": 91,
   "metadata": {},
   "outputs": [
    {
     "data": {
      "text/plain": [
       "{'SE.XPD.TOTL.GD.ZS': 'Government Expenditure',\n",
       " 'UIS.XGDP.23.FSGOV': 'Government Expenditure',\n",
       " 'UIS.XGDP.56.FSGOV': 'Government Expenditure',\n",
       " 'SE.TER.CMPL.ZS': 'Gender Equality'}"
      ]
     },
     "execution_count": 91,
     "metadata": {},
     "output_type": "execute_result"
    }
   ],
   "source": [
    "# Government expenditure on education as % of GDP (%),SE.XPD.TOTL.GD.ZS\n",
    "# Government expenditure on secondary education as % of GDP (%),UIS.XGDP.23.FSGOV\n",
    "# Government expenditure on tertiary education as % of GDP (%),UIS.XGDP.56.FSGOV\n",
    "\n",
    "\n",
    "categories_dict = {\n",
    "    \"Government Expenditure\": [\n",
    "    \"SE.XPD.TOTL.GD.ZS\",\n",
    "    \"UIS.XGDP.23.FSGOV\",\n",
    "    \"UIS.XGDP.56.FSGOV\",\n",
    "    ],\n",
    "    \"Gender Equality\": [\n",
    "        \"SE.TER.CMPL.ZS\",\n",
    "    ]     \n",
    "}\n",
    "\n",
    "\n",
    "\n",
    "categories_reverse = {}\n",
    "for key in categories_dict.keys():\n",
    "    for item in categories_dict[key]:\n",
    "        categories_reverse[item] = key\n",
    "        \n",
    "categories_reverse"
   ]
  },
  {
   "cell_type": "code",
   "execution_count": 92,
   "metadata": {},
   "outputs": [],
   "source": [
    "selected_indicators_code = list(categories_reverse.keys())"
   ]
  },
  {
   "cell_type": "markdown",
   "metadata": {},
   "source": [
    "## Export countries"
   ]
  },
  {
   "cell_type": "code",
   "execution_count": 93,
   "metadata": {},
   "outputs": [
    {
     "data": {
      "text/html": [
       "<div>\n",
       "<style scoped>\n",
       "    .dataframe tbody tr th:only-of-type {\n",
       "        vertical-align: middle;\n",
       "    }\n",
       "\n",
       "    .dataframe tbody tr th {\n",
       "        vertical-align: top;\n",
       "    }\n",
       "\n",
       "    .dataframe thead th {\n",
       "        text-align: right;\n",
       "    }\n",
       "</style>\n",
       "<table border=\"1\" class=\"dataframe\">\n",
       "  <thead>\n",
       "    <tr style=\"text-align: right;\">\n",
       "      <th></th>\n",
       "      <th>country_name</th>\n",
       "      <th>country_code</th>\n",
       "      <th>indicator_name</th>\n",
       "      <th>Indicator Code</th>\n",
       "      <th>unemployment_rate</th>\n",
       "    </tr>\n",
       "  </thead>\n",
       "  <tbody>\n",
       "    <tr>\n",
       "      <th>0</th>\n",
       "      <td>Austria</td>\n",
       "      <td>AUT</td>\n",
       "      <td>Unemployment, total (% of total labor force) (...</td>\n",
       "      <td>SL.UEM.TOTL.ZS</td>\n",
       "      <td>5.268</td>\n",
       "    </tr>\n",
       "    <tr>\n",
       "      <th>1</th>\n",
       "      <td>Belgium</td>\n",
       "      <td>BEL</td>\n",
       "      <td>Unemployment, total (% of total labor force) (...</td>\n",
       "      <td>SL.UEM.TOTL.ZS</td>\n",
       "      <td>5.541</td>\n",
       "    </tr>\n",
       "    <tr>\n",
       "      <th>2</th>\n",
       "      <td>Bulgaria</td>\n",
       "      <td>BGR</td>\n",
       "      <td>Unemployment, total (% of total labor force) (...</td>\n",
       "      <td>SL.UEM.TOTL.ZS</td>\n",
       "      <td>4.185</td>\n",
       "    </tr>\n",
       "    <tr>\n",
       "      <th>3</th>\n",
       "      <td>Switzerland</td>\n",
       "      <td>CHE</td>\n",
       "      <td>Unemployment, total (% of total labor force) (...</td>\n",
       "      <td>SL.UEM.TOTL.ZS</td>\n",
       "      <td>3.838</td>\n",
       "    </tr>\n",
       "    <tr>\n",
       "      <th>4</th>\n",
       "      <td>Germany</td>\n",
       "      <td>DEU</td>\n",
       "      <td>Unemployment, total (% of total labor force) (...</td>\n",
       "      <td>SL.UEM.TOTL.ZS</td>\n",
       "      <td>3.006</td>\n",
       "    </tr>\n",
       "  </tbody>\n",
       "</table>\n",
       "</div>"
      ],
      "text/plain": [
       "  country_name country_code  \\\n",
       "0      Austria          AUT   \n",
       "1      Belgium          BEL   \n",
       "2     Bulgaria          BGR   \n",
       "3  Switzerland          CHE   \n",
       "4      Germany          DEU   \n",
       "\n",
       "                                      indicator_name  Indicator Code  \\\n",
       "0  Unemployment, total (% of total labor force) (...  SL.UEM.TOTL.ZS   \n",
       "1  Unemployment, total (% of total labor force) (...  SL.UEM.TOTL.ZS   \n",
       "2  Unemployment, total (% of total labor force) (...  SL.UEM.TOTL.ZS   \n",
       "3  Unemployment, total (% of total labor force) (...  SL.UEM.TOTL.ZS   \n",
       "4  Unemployment, total (% of total labor force) (...  SL.UEM.TOTL.ZS   \n",
       "\n",
       "   unemployment_rate  \n",
       "0              5.268  \n",
       "1              5.541  \n",
       "2              4.185  \n",
       "3              3.838  \n",
       "4              3.006  "
      ]
     },
     "execution_count": 93,
     "metadata": {},
     "output_type": "execute_result"
    }
   ],
   "source": [
    "employment.head()"
   ]
  },
  {
   "cell_type": "code",
   "execution_count": 94,
   "metadata": {},
   "outputs": [],
   "source": [
    "# export country nodes\n",
    "country = employment[['country_name', 'country_code']].copy(deep=True)\n",
    "# generate unique 3-digit country id\n",
    "import uuid\n",
    "country['country_id'] = country['country_code'].apply(lambda x: uuid.uuid3(uuid.NAMESPACE_DNS, x))\n",
    "country.to_csv(f'../data/neo4j/country.csv', index=False)\n"
   ]
  },
  {
   "cell_type": "code",
   "execution_count": null,
   "metadata": {},
   "outputs": [],
   "source": []
  },
  {
   "cell_type": "markdown",
   "metadata": {},
   "source": [
    "## Export education nodes"
   ]
  },
  {
   "cell_type": "code",
   "execution_count": 95,
   "metadata": {},
   "outputs": [],
   "source": [
    "# add indicator code\n",
    "edu_raw = pd.read_csv('../data/European/EducationStats/european_education_data.csv')\n",
    "\n",
    "edu_raw_index = edu_raw[['Indicator Name', 'Indicator Code']].drop_duplicates()\n",
    "edu_raw_index.rename(columns={'Indicator Name': 'indicator_name',\n",
    "                                'Indicator Code': 'indicator_code'}, inplace=True)\n",
    "\n",
    "# add education indicator code to our file\n",
    "\n",
    "education = pd.merge(education, edu_raw_index, on='indicator_name', how='left')\n",
    "# education.to_csv(f'../data/neo4j/education.csv', index=False)\n",
    "indeces = education[['indicator_name', 'indicator_code']].drop_duplicates()\n",
    "indeces.to_csv(f'../data/neo4j/index.csv', index=False)"
   ]
  },
  {
   "cell_type": "code",
   "execution_count": 82,
   "metadata": {},
   "outputs": [],
   "source": []
  },
  {
   "cell_type": "code",
   "execution_count": 83,
   "metadata": {},
   "outputs": [],
   "source": [
    "# add UUID to every row\n",
    "education['educational_index_id'] = education.apply(lambda row: generate_uuid(), axis=1)"
   ]
  },
  {
   "cell_type": "code",
   "execution_count": 84,
   "metadata": {},
   "outputs": [],
   "source": [
    "# export education nodes\n",
    "educational_index_fields = ['indicator_name', 'value', 'indicator_code', 'educational_index_id']\n",
    "educational_index = education[educational_index_fields]\n",
    "\n",
    "educational_index_selected = educational_index[educational_index['indicator_code'].isin(selected_indicators_code)]\n",
    "educational_index_selected.to_csv(f'../data/neo4j/educational_index.csv', index=False)"
   ]
  },
  {
   "cell_type": "markdown",
   "metadata": {},
   "source": [
    "## Categories"
   ]
  },
  {
   "cell_type": "code",
   "execution_count": 85,
   "metadata": {},
   "outputs": [],
   "source": [
    "# \"Gross graduation ratio from first degree programmes (ISCED 6 and 7) in tertiary education, both sexes (%)\",SE.TER.CMPL.ZS\n",
    "# \"Gross graduation ratio from first degree programmes (ISCED 6 and 7) in tertiary education, female (%)\",SE.TER.CMPL.FE.ZS\n",
    "# \"Gross graduation ratio from first degree programmes (ISCED 6 and 7) in tertiary education, gender parity index (GPI)\",UIS.GGR.5.A.GPI\n",
    "# \"Gross graduation ratio from first degree programmes (ISCED 6 and 7) in tertiary education, male (%)\",SE.TER.CMPL.MA.ZS\n",
    "\n",
    "categories = pd.DataFrame({\n",
    "    'indicator_code': list(categories_reverse.keys()),\n",
    "    'category': list(categories_reverse.values()),\n",
    "})\\\n",
    "    .merge(indeces, on='indicator_code', how='left')[['category', 'indicator_name', 'indicator_code']]\\\n",
    "    .to_csv(f'../data/neo4j/categories.csv', index=False)"
   ]
  },
  {
   "cell_type": "markdown",
   "metadata": {},
   "source": [
    "## Education Index - Country relationship"
   ]
  },
  {
   "cell_type": "code",
   "execution_count": 86,
   "metadata": {},
   "outputs": [],
   "source": [
    "education_country = education[['country_name','indicator_code', 'country_code', 'educational_index_id']].copy(deep=True)\n",
    "education_country['country_id'] = pd.merge(education_country, country, on='country_name', how='left')['country_id']\n",
    "education_country.to_csv(f'../data/neo4j/education_country.csv', index=False)"
   ]
  },
  {
   "cell_type": "markdown",
   "metadata": {},
   "source": [
    "## Social Economic Class"
   ]
  },
  {
   "cell_type": "code",
   "execution_count": 87,
   "metadata": {},
   "outputs": [
    {
     "data": {
      "text/html": [
       "<div>\n",
       "<style scoped>\n",
       "    .dataframe tbody tr th:only-of-type {\n",
       "        vertical-align: middle;\n",
       "    }\n",
       "\n",
       "    .dataframe tbody tr th {\n",
       "        vertical-align: top;\n",
       "    }\n",
       "\n",
       "    .dataframe thead th {\n",
       "        text-align: right;\n",
       "    }\n",
       "</style>\n",
       "<table border=\"1\" class=\"dataframe\">\n",
       "  <thead>\n",
       "    <tr style=\"text-align: right;\">\n",
       "      <th></th>\n",
       "      <th>unid</th>\n",
       "      <th>country_code</th>\n",
       "      <th>country_name</th>\n",
       "      <th>year</th>\n",
       "      <th>ses</th>\n",
       "      <th>socioeconomic_class</th>\n",
       "      <th>gdppc</th>\n",
       "      <th>yrseduc</th>\n",
       "      <th>region5</th>\n",
       "      <th>regionUN</th>\n",
       "      <th>socioeconomic_id</th>\n",
       "    </tr>\n",
       "  </thead>\n",
       "  <tbody>\n",
       "    <tr>\n",
       "      <th>0</th>\n",
       "      <td>100</td>\n",
       "      <td>BGR</td>\n",
       "      <td>Bulgaria</td>\n",
       "      <td>2000</td>\n",
       "      <td>64.527023</td>\n",
       "      <td>Middle(semi-per)</td>\n",
       "      <td>8958.050781</td>\n",
       "      <td>9.3762</td>\n",
       "      <td>SE Europe</td>\n",
       "      <td>East Europe</td>\n",
       "      <td>087cce52-822c-4813-91c2-dc788f06c9f5</td>\n",
       "    </tr>\n",
       "    <tr>\n",
       "      <th>1</th>\n",
       "      <td>100</td>\n",
       "      <td>BGR</td>\n",
       "      <td>Bulgaria</td>\n",
       "      <td>2010</td>\n",
       "      <td>63.851353</td>\n",
       "      <td>Middle(semi-per)</td>\n",
       "      <td>15283.179690</td>\n",
       "      <td>9.8510</td>\n",
       "      <td>SE Europe</td>\n",
       "      <td>East Europe</td>\n",
       "      <td>452dc637-51c2-46fe-9305-3436afdb915d</td>\n",
       "    </tr>\n",
       "    <tr>\n",
       "      <th>2</th>\n",
       "      <td>208</td>\n",
       "      <td>DNK</td>\n",
       "      <td>Denmark</td>\n",
       "      <td>2000</td>\n",
       "      <td>86.824326</td>\n",
       "      <td>High(core)</td>\n",
       "      <td>42337.714840</td>\n",
       "      <td>9.7124</td>\n",
       "      <td>NW Europe</td>\n",
       "      <td>North Europe</td>\n",
       "      <td>f0eb912b-832a-4284-8246-bc8f64e205e1</td>\n",
       "    </tr>\n",
       "    <tr>\n",
       "      <th>3</th>\n",
       "      <td>208</td>\n",
       "      <td>DNK</td>\n",
       "      <td>Denmark</td>\n",
       "      <td>2010</td>\n",
       "      <td>82.432434</td>\n",
       "      <td>High(core)</td>\n",
       "      <td>43998.437500</td>\n",
       "      <td>10.0566</td>\n",
       "      <td>NW Europe</td>\n",
       "      <td>North Europe</td>\n",
       "      <td>14da39a9-bc75-42ab-aae1-5aa4f4bfaed4</td>\n",
       "    </tr>\n",
       "    <tr>\n",
       "      <th>4</th>\n",
       "      <td>246</td>\n",
       "      <td>FIN</td>\n",
       "      <td>Finland</td>\n",
       "      <td>2000</td>\n",
       "      <td>70.608109</td>\n",
       "      <td>High(core)</td>\n",
       "      <td>34887.179690</td>\n",
       "      <td>8.1934</td>\n",
       "      <td>NW Europe</td>\n",
       "      <td>North Europe</td>\n",
       "      <td>2dcf2b92-4bc6-4a03-b28e-ea3694b9330b</td>\n",
       "    </tr>\n",
       "  </tbody>\n",
       "</table>\n",
       "</div>"
      ],
      "text/plain": [
       "   unid country_code country_name  year        ses socioeconomic_class  \\\n",
       "0   100          BGR     Bulgaria  2000  64.527023    Middle(semi-per)   \n",
       "1   100          BGR     Bulgaria  2010  63.851353    Middle(semi-per)   \n",
       "2   208          DNK      Denmark  2000  86.824326          High(core)   \n",
       "3   208          DNK      Denmark  2010  82.432434          High(core)   \n",
       "4   246          FIN      Finland  2000  70.608109          High(core)   \n",
       "\n",
       "          gdppc  yrseduc    region5      regionUN  \\\n",
       "0   8958.050781   9.3762  SE Europe   East Europe   \n",
       "1  15283.179690   9.8510  SE Europe   East Europe   \n",
       "2  42337.714840   9.7124  NW Europe  North Europe   \n",
       "3  43998.437500  10.0566  NW Europe  North Europe   \n",
       "4  34887.179690   8.1934  NW Europe  North Europe   \n",
       "\n",
       "                       socioeconomic_id  \n",
       "0  087cce52-822c-4813-91c2-dc788f06c9f5  \n",
       "1  452dc637-51c2-46fe-9305-3436afdb915d  \n",
       "2  f0eb912b-832a-4284-8246-bc8f64e205e1  \n",
       "3  14da39a9-bc75-42ab-aae1-5aa4f4bfaed4  \n",
       "4  2dcf2b92-4bc6-4a03-b28e-ea3694b9330b  "
      ]
     },
     "execution_count": 87,
     "metadata": {},
     "output_type": "execute_result"
    }
   ],
   "source": [
    "# add UUID to every \"row\"\n",
    "socioecono['socioeconomic_id'] = socioecono.apply(lambda row: generate_uuid(), axis=1)\n",
    "socioecono.to_csv(f'../data/neo4j/socioecono.csv', index=False)\n",
    "socioecono.head()"
   ]
  },
  {
   "cell_type": "markdown",
   "metadata": {},
   "source": [
    "# Employment"
   ]
  },
  {
   "cell_type": "code",
   "execution_count": 88,
   "metadata": {},
   "outputs": [
    {
     "data": {
      "text/html": [
       "<div>\n",
       "<style scoped>\n",
       "    .dataframe tbody tr th:only-of-type {\n",
       "        vertical-align: middle;\n",
       "    }\n",
       "\n",
       "    .dataframe tbody tr th {\n",
       "        vertical-align: top;\n",
       "    }\n",
       "\n",
       "    .dataframe thead th {\n",
       "        text-align: right;\n",
       "    }\n",
       "</style>\n",
       "<table border=\"1\" class=\"dataframe\">\n",
       "  <thead>\n",
       "    <tr style=\"text-align: right;\">\n",
       "      <th></th>\n",
       "      <th>country_name</th>\n",
       "      <th>country_code</th>\n",
       "      <th>indicator_name</th>\n",
       "      <th>Indicator Code</th>\n",
       "      <th>unemployment_rate</th>\n",
       "      <th>employment_id</th>\n",
       "    </tr>\n",
       "  </thead>\n",
       "  <tbody>\n",
       "    <tr>\n",
       "      <th>0</th>\n",
       "      <td>Austria</td>\n",
       "      <td>AUT</td>\n",
       "      <td>Unemployment, total (% of total labor force) (...</td>\n",
       "      <td>SL.UEM.TOTL.ZS</td>\n",
       "      <td>5.268</td>\n",
       "      <td>2ac4ae56-33b4-4bba-8dfe-e622e7744cbd</td>\n",
       "    </tr>\n",
       "    <tr>\n",
       "      <th>1</th>\n",
       "      <td>Belgium</td>\n",
       "      <td>BEL</td>\n",
       "      <td>Unemployment, total (% of total labor force) (...</td>\n",
       "      <td>SL.UEM.TOTL.ZS</td>\n",
       "      <td>5.541</td>\n",
       "      <td>21895466-2068-4d24-98f3-ba785ba95144</td>\n",
       "    </tr>\n",
       "    <tr>\n",
       "      <th>2</th>\n",
       "      <td>Bulgaria</td>\n",
       "      <td>BGR</td>\n",
       "      <td>Unemployment, total (% of total labor force) (...</td>\n",
       "      <td>SL.UEM.TOTL.ZS</td>\n",
       "      <td>4.185</td>\n",
       "      <td>3a331d5c-9859-4fa2-8fe6-1a2078fd29cf</td>\n",
       "    </tr>\n",
       "    <tr>\n",
       "      <th>3</th>\n",
       "      <td>Switzerland</td>\n",
       "      <td>CHE</td>\n",
       "      <td>Unemployment, total (% of total labor force) (...</td>\n",
       "      <td>SL.UEM.TOTL.ZS</td>\n",
       "      <td>3.838</td>\n",
       "      <td>c91bae40-d491-4afc-b4b2-54ed7644eae8</td>\n",
       "    </tr>\n",
       "    <tr>\n",
       "      <th>4</th>\n",
       "      <td>Germany</td>\n",
       "      <td>DEU</td>\n",
       "      <td>Unemployment, total (% of total labor force) (...</td>\n",
       "      <td>SL.UEM.TOTL.ZS</td>\n",
       "      <td>3.006</td>\n",
       "      <td>7d919876-f20a-47d3-837e-30e8d74c7fc4</td>\n",
       "    </tr>\n",
       "  </tbody>\n",
       "</table>\n",
       "</div>"
      ],
      "text/plain": [
       "  country_name country_code  \\\n",
       "0      Austria          AUT   \n",
       "1      Belgium          BEL   \n",
       "2     Bulgaria          BGR   \n",
       "3  Switzerland          CHE   \n",
       "4      Germany          DEU   \n",
       "\n",
       "                                      indicator_name  Indicator Code  \\\n",
       "0  Unemployment, total (% of total labor force) (...  SL.UEM.TOTL.ZS   \n",
       "1  Unemployment, total (% of total labor force) (...  SL.UEM.TOTL.ZS   \n",
       "2  Unemployment, total (% of total labor force) (...  SL.UEM.TOTL.ZS   \n",
       "3  Unemployment, total (% of total labor force) (...  SL.UEM.TOTL.ZS   \n",
       "4  Unemployment, total (% of total labor force) (...  SL.UEM.TOTL.ZS   \n",
       "\n",
       "   unemployment_rate                         employment_id  \n",
       "0              5.268  2ac4ae56-33b4-4bba-8dfe-e622e7744cbd  \n",
       "1              5.541  21895466-2068-4d24-98f3-ba785ba95144  \n",
       "2              4.185  3a331d5c-9859-4fa2-8fe6-1a2078fd29cf  \n",
       "3              3.838  c91bae40-d491-4afc-b4b2-54ed7644eae8  \n",
       "4              3.006  7d919876-f20a-47d3-837e-30e8d74c7fc4  "
      ]
     },
     "execution_count": 88,
     "metadata": {},
     "output_type": "execute_result"
    }
   ],
   "source": [
    "## Employment Rate\n",
    "# add uuid to every row\n",
    "employment['employment_id'] = employment.apply(lambda row: generate_uuid(), axis=1)\n",
    "employment.to_csv(f'../data/neo4j/employment.csv', index=False)\n",
    "employment.head()"
   ]
  },
  {
   "cell_type": "markdown",
   "metadata": {},
   "source": [
    "# Correlation"
   ]
  },
  {
   "cell_type": "code",
   "execution_count": null,
   "metadata": {},
   "outputs": [],
   "source": []
  }
 ],
 "metadata": {
  "kernelspec": {
   "display_name": "newbase",
   "language": "python",
   "name": "python3"
  },
  "language_info": {
   "codemirror_mode": {
    "name": "ipython",
    "version": 3
   },
   "file_extension": ".py",
   "mimetype": "text/x-python",
   "name": "python",
   "nbconvert_exporter": "python",
   "pygments_lexer": "ipython3",
   "version": "3.12.3"
  }
 },
 "nbformat": 4,
 "nbformat_minor": 2
}
