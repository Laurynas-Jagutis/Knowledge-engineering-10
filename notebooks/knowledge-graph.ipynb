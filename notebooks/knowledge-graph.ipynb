{
 "cells": [
  {
   "cell_type": "markdown",
   "metadata": {},
   "source": [
    "# Identification"
   ]
  },
  {
   "cell_type": "code",
   "execution_count": 1,
   "metadata": {},
   "outputs": [],
   "source": [
    "import pandas as pd\n",
    "import numpy as np\n",
    "import seaborn as sns\n",
    "import matplotlib.pyplot as plt\n",
    "import networkx as nx\n",
    "\n",
    "import sys\n",
    "sys.path.append('..')"
   ]
  },
  {
   "cell_type": "code",
   "execution_count": 2,
   "metadata": {},
   "outputs": [],
   "source": [
    "education = pd.read_csv('../data/Cleaned/education/education.csv')\n",
    "employment = pd.read_csv('../data/Cleaned/employment/european_employment_data.csv')\n",
    "socioecono = pd.read_csv('../data/Cleaned/socio/socio.csv')"
   ]
  },
  {
   "cell_type": "code",
   "execution_count": 3,
   "metadata": {},
   "outputs": [
    {
     "name": "stdout",
     "output_type": "stream",
     "text": [
      "24120 18 36\n"
     ]
    }
   ],
   "source": [
    "print(education.shape[0], employment.shape[0], socioecono.shape[0]) "
   ]
  },
  {
   "cell_type": "code",
   "execution_count": 5,
   "metadata": {},
   "outputs": [
    {
     "name": "stdout",
     "output_type": "stream",
     "text": [
      "Number of unique indicators: 1340\n"
     ]
    }
   ],
   "source": [
    "print(f\"Number of unique indicators: {education['Indicator Name'].unique().__len__()}\")"
   ]
  },
  {
   "cell_type": "code",
   "execution_count": 8,
   "metadata": {},
   "outputs": [],
   "source": [
    "education.rename(columns={'Country Name': 'country_name',\n",
    "                          'Country Code': 'country_code',\n",
    "                          'Indicator Name': 'indicator_name',\n",
    "                          'Value': 'value',\n",
    "                          }, inplace=True)"
   ]
  },
  {
   "cell_type": "code",
   "execution_count": 9,
   "metadata": {},
   "outputs": [
    {
     "data": {
      "text/html": [
       "<div>\n",
       "<style scoped>\n",
       "    .dataframe tbody tr th:only-of-type {\n",
       "        vertical-align: middle;\n",
       "    }\n",
       "\n",
       "    .dataframe tbody tr th {\n",
       "        vertical-align: top;\n",
       "    }\n",
       "\n",
       "    .dataframe thead th {\n",
       "        text-align: right;\n",
       "    }\n",
       "</style>\n",
       "<table border=\"1\" class=\"dataframe\">\n",
       "  <thead>\n",
       "    <tr style=\"text-align: right;\">\n",
       "      <th></th>\n",
       "      <th>Unnamed: 0</th>\n",
       "      <th>Country Name</th>\n",
       "      <th>Country Code</th>\n",
       "      <th>Indicator Name</th>\n",
       "      <th>Indicator Code</th>\n",
       "      <th>2023</th>\n",
       "    </tr>\n",
       "  </thead>\n",
       "  <tbody>\n",
       "    <tr>\n",
       "      <th>0</th>\n",
       "      <td>14</td>\n",
       "      <td>Austria</td>\n",
       "      <td>AUT</td>\n",
       "      <td>Unemployment, total (% of total labor force) (...</td>\n",
       "      <td>SL.UEM.TOTL.ZS</td>\n",
       "      <td>5.268</td>\n",
       "    </tr>\n",
       "    <tr>\n",
       "      <th>1</th>\n",
       "      <td>17</td>\n",
       "      <td>Belgium</td>\n",
       "      <td>BEL</td>\n",
       "      <td>Unemployment, total (% of total labor force) (...</td>\n",
       "      <td>SL.UEM.TOTL.ZS</td>\n",
       "      <td>5.541</td>\n",
       "    </tr>\n",
       "    <tr>\n",
       "      <th>2</th>\n",
       "      <td>21</td>\n",
       "      <td>Bulgaria</td>\n",
       "      <td>BGR</td>\n",
       "      <td>Unemployment, total (% of total labor force) (...</td>\n",
       "      <td>SL.UEM.TOTL.ZS</td>\n",
       "      <td>4.185</td>\n",
       "    </tr>\n",
       "    <tr>\n",
       "      <th>3</th>\n",
       "      <td>37</td>\n",
       "      <td>Switzerland</td>\n",
       "      <td>CHE</td>\n",
       "      <td>Unemployment, total (% of total labor force) (...</td>\n",
       "      <td>SL.UEM.TOTL.ZS</td>\n",
       "      <td>3.838</td>\n",
       "    </tr>\n",
       "    <tr>\n",
       "      <th>4</th>\n",
       "      <td>55</td>\n",
       "      <td>Germany</td>\n",
       "      <td>DEU</td>\n",
       "      <td>Unemployment, total (% of total labor force) (...</td>\n",
       "      <td>SL.UEM.TOTL.ZS</td>\n",
       "      <td>3.006</td>\n",
       "    </tr>\n",
       "  </tbody>\n",
       "</table>\n",
       "</div>"
      ],
      "text/plain": [
       "   Unnamed: 0 Country Name Country Code  \\\n",
       "0          14      Austria          AUT   \n",
       "1          17      Belgium          BEL   \n",
       "2          21     Bulgaria          BGR   \n",
       "3          37  Switzerland          CHE   \n",
       "4          55      Germany          DEU   \n",
       "\n",
       "                                      Indicator Name  Indicator Code   2023  \n",
       "0  Unemployment, total (% of total labor force) (...  SL.UEM.TOTL.ZS  5.268  \n",
       "1  Unemployment, total (% of total labor force) (...  SL.UEM.TOTL.ZS  5.541  \n",
       "2  Unemployment, total (% of total labor force) (...  SL.UEM.TOTL.ZS  4.185  \n",
       "3  Unemployment, total (% of total labor force) (...  SL.UEM.TOTL.ZS  3.838  \n",
       "4  Unemployment, total (% of total labor force) (...  SL.UEM.TOTL.ZS  3.006  "
      ]
     },
     "execution_count": 9,
     "metadata": {},
     "output_type": "execute_result"
    }
   ],
   "source": [
    "employment.head()"
   ]
  },
  {
   "cell_type": "code",
   "execution_count": 10,
   "metadata": {},
   "outputs": [],
   "source": [
    "employment.rename(columns={'Country Name': 'country_name',\n",
    "                           'Country Code': 'country_code',\n",
    "                            'Indicator Name': 'indicator_name',\n",
    "                            '2023': 'unemployment_rate',\n",
    "                            }, inplace=True)"
   ]
  },
  {
   "cell_type": "code",
   "execution_count": 11,
   "metadata": {},
   "outputs": [],
   "source": [
    "employment.drop(columns=['Unnamed: 0'], inplace=True)"
   ]
  },
  {
   "cell_type": "code",
   "execution_count": 14,
   "metadata": {},
   "outputs": [],
   "source": [
    "socioecono.head()\n",
    "sociecono = socioecono.rename(columns={'country': 'country_name',\n",
    "                                       'wbid': 'country_code',\n",
    "                                       'class': 'socioeconomic_class',\n",
    "                                        }, inplace=True)"
   ]
  },
  {
   "cell_type": "code",
   "execution_count": 37,
   "metadata": {},
   "outputs": [],
   "source": [
    "g = education.groupby([\"Indicator Name\", \"Country Name\"]).count().reset_index()\n",
    "    # .to_csv('../data/Cleaned/groupby/education.csv')\n",
    "    \n",
    "g.groupby([\"Indicator Name\"]).count().reset_index().to_csv('../data/Cleaned/groupby/indicator-num-countries.csv')"
   ]
  },
  {
   "cell_type": "markdown",
   "metadata": {},
   "source": [
    "# Export to Postgres\n",
    "\n"
   ]
  },
  {
   "cell_type": "code",
   "execution_count": 15,
   "metadata": {},
   "outputs": [],
   "source": [
    "from sqlalchemy import create_engine\n",
    "\n",
    "# db connection\n",
    "\n",
    "USERNAME = 'keniwo'\n",
    "PW = '2000'\n",
    "HOST = 'localhost'\n",
    "PORT = '5432'\n",
    "DBNAME = 'keproject'\n",
    "\n",
    "engine = create_engine(f'postgresql://{USERNAME}:{PW}@{HOST}:{PORT}/{DBNAME}')\n",
    "connection = engine.connect()"
   ]
  },
  {
   "cell_type": "code",
   "execution_count": 18,
   "metadata": {},
   "outputs": [
    {
     "data": {
      "text/plain": [
       "36"
      ]
     },
     "execution_count": 18,
     "metadata": {},
     "output_type": "execute_result"
    }
   ],
   "source": [
    "education.to_sql('education', connection, if_exists='replace', index=False)\n",
    "employment.to_sql('employment', connection, if_exists='replace', index=False)\n",
    "socioecono.to_sql('socioecono', connection, if_exists='replace', index=False)"
   ]
  },
  {
   "cell_type": "markdown",
   "metadata": {},
   "source": [
    "# Indicators"
   ]
  },
  {
   "cell_type": "code",
   "execution_count": 20,
   "metadata": {},
   "outputs": [
    {
     "data": {
      "text/html": [
       "<div>\n",
       "<style scoped>\n",
       "    .dataframe tbody tr th:only-of-type {\n",
       "        vertical-align: middle;\n",
       "    }\n",
       "\n",
       "    .dataframe tbody tr th {\n",
       "        vertical-align: top;\n",
       "    }\n",
       "\n",
       "    .dataframe thead th {\n",
       "        text-align: right;\n",
       "    }\n",
       "</style>\n",
       "<table border=\"1\" class=\"dataframe\">\n",
       "  <thead>\n",
       "    <tr style=\"text-align: right;\">\n",
       "      <th></th>\n",
       "      <th>country_name</th>\n",
       "      <th>country_code</th>\n",
       "      <th>indicator_name</th>\n",
       "      <th>value</th>\n",
       "    </tr>\n",
       "  </thead>\n",
       "  <tbody>\n",
       "    <tr>\n",
       "      <th>418</th>\n",
       "      <td>Austria</td>\n",
       "      <td>AUT</td>\n",
       "      <td>Expenditure on education as % of total governm...</td>\n",
       "      <td>10.483210</td>\n",
       "    </tr>\n",
       "    <tr>\n",
       "      <th>1758</th>\n",
       "      <td>Belgium</td>\n",
       "      <td>BEL</td>\n",
       "      <td>Expenditure on education as % of total governm...</td>\n",
       "      <td>11.972390</td>\n",
       "    </tr>\n",
       "    <tr>\n",
       "      <th>3098</th>\n",
       "      <td>Bulgaria</td>\n",
       "      <td>BGR</td>\n",
       "      <td>Expenditure on education as % of total governm...</td>\n",
       "      <td>11.439800</td>\n",
       "    </tr>\n",
       "    <tr>\n",
       "      <th>4438</th>\n",
       "      <td>Denmark</td>\n",
       "      <td>DNK</td>\n",
       "      <td>Expenditure on education as % of total governm...</td>\n",
       "      <td>15.229870</td>\n",
       "    </tr>\n",
       "    <tr>\n",
       "      <th>5778</th>\n",
       "      <td>Finland</td>\n",
       "      <td>FIN</td>\n",
       "      <td>Expenditure on education as % of total governm...</td>\n",
       "      <td>12.323450</td>\n",
       "    </tr>\n",
       "    <tr>\n",
       "      <th>7118</th>\n",
       "      <td>France</td>\n",
       "      <td>FRA</td>\n",
       "      <td>Expenditure on education as % of total governm...</td>\n",
       "      <td>9.661880</td>\n",
       "    </tr>\n",
       "    <tr>\n",
       "      <th>8458</th>\n",
       "      <td>Germany</td>\n",
       "      <td>DEU</td>\n",
       "      <td>Expenditure on education as % of total governm...</td>\n",
       "      <td>11.138740</td>\n",
       "    </tr>\n",
       "    <tr>\n",
       "      <th>9798</th>\n",
       "      <td>Greece</td>\n",
       "      <td>GRC</td>\n",
       "      <td>Expenditure on education as % of total governm...</td>\n",
       "      <td>8.700210</td>\n",
       "    </tr>\n",
       "    <tr>\n",
       "      <th>11138</th>\n",
       "      <td>Hungary</td>\n",
       "      <td>HUN</td>\n",
       "      <td>Expenditure on education as % of total governm...</td>\n",
       "      <td>9.413050</td>\n",
       "    </tr>\n",
       "    <tr>\n",
       "      <th>12478</th>\n",
       "      <td>Ireland</td>\n",
       "      <td>IRL</td>\n",
       "      <td>Expenditure on education as % of total governm...</td>\n",
       "      <td>13.453060</td>\n",
       "    </tr>\n",
       "    <tr>\n",
       "      <th>13818</th>\n",
       "      <td>Italy</td>\n",
       "      <td>ITA</td>\n",
       "      <td>Expenditure on education as % of total governm...</td>\n",
       "      <td>8.006160</td>\n",
       "    </tr>\n",
       "    <tr>\n",
       "      <th>15158</th>\n",
       "      <td>Netherlands</td>\n",
       "      <td>NLD</td>\n",
       "      <td>Expenditure on education as % of total governm...</td>\n",
       "      <td>11.973170</td>\n",
       "    </tr>\n",
       "    <tr>\n",
       "      <th>16498</th>\n",
       "      <td>Norway</td>\n",
       "      <td>NOR</td>\n",
       "      <td>Expenditure on education as % of total governm...</td>\n",
       "      <td>17.026119</td>\n",
       "    </tr>\n",
       "    <tr>\n",
       "      <th>17838</th>\n",
       "      <td>Portugal</td>\n",
       "      <td>PRT</td>\n",
       "      <td>Expenditure on education as % of total governm...</td>\n",
       "      <td>9.888010</td>\n",
       "    </tr>\n",
       "    <tr>\n",
       "      <th>19178</th>\n",
       "      <td>Spain</td>\n",
       "      <td>ESP</td>\n",
       "      <td>Expenditure on education as % of total governm...</td>\n",
       "      <td>9.592610</td>\n",
       "    </tr>\n",
       "    <tr>\n",
       "      <th>20518</th>\n",
       "      <td>Sweden</td>\n",
       "      <td>SWE</td>\n",
       "      <td>Expenditure on education as % of total governm...</td>\n",
       "      <td>14.939090</td>\n",
       "    </tr>\n",
       "    <tr>\n",
       "      <th>21858</th>\n",
       "      <td>Switzerland</td>\n",
       "      <td>CHE</td>\n",
       "      <td>Expenditure on education as % of total governm...</td>\n",
       "      <td>15.526320</td>\n",
       "    </tr>\n",
       "    <tr>\n",
       "      <th>23198</th>\n",
       "      <td>United Kingdom</td>\n",
       "      <td>GBR</td>\n",
       "      <td>Expenditure on education as % of total governm...</td>\n",
       "      <td>13.880240</td>\n",
       "    </tr>\n",
       "  </tbody>\n",
       "</table>\n",
       "</div>"
      ],
      "text/plain": [
       "         country_name country_code  \\\n",
       "418           Austria          AUT   \n",
       "1758          Belgium          BEL   \n",
       "3098         Bulgaria          BGR   \n",
       "4438          Denmark          DNK   \n",
       "5778          Finland          FIN   \n",
       "7118           France          FRA   \n",
       "8458          Germany          DEU   \n",
       "9798           Greece          GRC   \n",
       "11138         Hungary          HUN   \n",
       "12478         Ireland          IRL   \n",
       "13818           Italy          ITA   \n",
       "15158     Netherlands          NLD   \n",
       "16498          Norway          NOR   \n",
       "17838        Portugal          PRT   \n",
       "19178           Spain          ESP   \n",
       "20518          Sweden          SWE   \n",
       "21858     Switzerland          CHE   \n",
       "23198  United Kingdom          GBR   \n",
       "\n",
       "                                          indicator_name      value  \n",
       "418    Expenditure on education as % of total governm...  10.483210  \n",
       "1758   Expenditure on education as % of total governm...  11.972390  \n",
       "3098   Expenditure on education as % of total governm...  11.439800  \n",
       "4438   Expenditure on education as % of total governm...  15.229870  \n",
       "5778   Expenditure on education as % of total governm...  12.323450  \n",
       "7118   Expenditure on education as % of total governm...   9.661880  \n",
       "8458   Expenditure on education as % of total governm...  11.138740  \n",
       "9798   Expenditure on education as % of total governm...   8.700210  \n",
       "11138  Expenditure on education as % of total governm...   9.413050  \n",
       "12478  Expenditure on education as % of total governm...  13.453060  \n",
       "13818  Expenditure on education as % of total governm...   8.006160  \n",
       "15158  Expenditure on education as % of total governm...  11.973170  \n",
       "16498  Expenditure on education as % of total governm...  17.026119  \n",
       "17838  Expenditure on education as % of total governm...   9.888010  \n",
       "19178  Expenditure on education as % of total governm...   9.592610  \n",
       "20518  Expenditure on education as % of total governm...  14.939090  \n",
       "21858  Expenditure on education as % of total governm...  15.526320  \n",
       "23198  Expenditure on education as % of total governm...  13.880240  "
      ]
     },
     "execution_count": 20,
     "metadata": {},
     "output_type": "execute_result"
    }
   ],
   "source": [
    "expenditure = [\n",
    "    \"Expenditure on education as % of total government expenditure (%)\"\n",
    "]\n",
    "\n",
    "education[education[\"indicator_name\"].isin(expenditure)]"
   ]
  }
 ],
 "metadata": {
  "kernelspec": {
   "display_name": "newbase",
   "language": "python",
   "name": "python3"
  },
  "language_info": {
   "codemirror_mode": {
    "name": "ipython",
    "version": 3
   },
   "file_extension": ".py",
   "mimetype": "text/x-python",
   "name": "python",
   "nbconvert_exporter": "python",
   "pygments_lexer": "ipython3",
   "version": "3.12.3"
  }
 },
 "nbformat": 4,
 "nbformat_minor": 2
}
