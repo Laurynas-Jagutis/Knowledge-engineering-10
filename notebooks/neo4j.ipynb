{
 "cells": [
  {
   "cell_type": "code",
   "execution_count": 3,
   "metadata": {},
   "outputs": [],
   "source": [
    "!pip install neo4j -q"
   ]
  },
  {
   "cell_type": "markdown",
   "metadata": {},
   "source": [
    "# Create Connection"
   ]
  },
  {
   "cell_type": "code",
   "execution_count": 2,
   "metadata": {},
   "outputs": [],
   "source": [
    "from neo4j import GraphDatabase\n",
    "\n",
    "# URI examples: \"neo4j://localhost\", \"neo4j+s://xxx.databases.neo4j.io\"\n",
    "URI = \"neo4j+s://71b249ed.databases.neo4j.io\"\n",
    "USER = \"neo4j\"\n",
    "PASSWORD = \"\"\n",
    "AUTH = (USER, PASSWORD)\n",
    "\n",
    "with GraphDatabase.driver(URI, auth=AUTH) as driver:\n",
    "    driver.verify_connectivity()"
   ]
  },
  {
   "cell_type": "code",
   "execution_count": 5,
   "metadata": {},
   "outputs": [],
   "source": [
    "driver = GraphDatabase.driver(URI, auth=AUTH)"
   ]
  },
  {
   "cell_type": "markdown",
   "metadata": {},
   "source": [
    "# Data Import"
   ]
  },
  {
   "cell_type": "code",
   "execution_count": 6,
   "metadata": {},
   "outputs": [
    {
     "name": "stdout",
     "output_type": "stream",
     "text": [
      "Created 1 nodes in 30 ms.\n"
     ]
    }
   ],
   "source": [
    "summary = driver.execute_query(\n",
    "    \"CREATE (:Person {name: $name})\",\n",
    "    name=\"Alice\",\n",
    "    database_=\"neo4j\",\n",
    ").summary\n",
    "\n",
    "print(\"Created {nodes_created} nodes in {time} ms.\".format(\n",
    "    nodes_created=summary.counters.nodes_created,\n",
    "    time=summary.result_available_after\n",
    "))"
   ]
  },
  {
   "cell_type": "code",
   "execution_count": 13,
   "metadata": {},
   "outputs": [
    {
     "data": {
      "text/plain": [
       "{'query': 'CREATE (:Person {name: $name})',\n",
       " 'parameters': {'name': 'Alice'},\n",
       " 'server': <neo4j.api.ServerInfo at 0x11b820740>,\n",
       " 'database': None,\n",
       " 't_first': 30,\n",
       " 'fields': [],\n",
       " 'qid': 0,\n",
       " 'stats': {'contains-updates': True,\n",
       "  'labels-added': 1,\n",
       "  'nodes-created': 1,\n",
       "  'properties-set': 1},\n",
       " 'type': 'w',\n",
       " 't_last': 0,\n",
       " 'db': 'neo4j'}"
      ]
     },
     "execution_count": 13,
     "metadata": {},
     "output_type": "execute_result"
    }
   ],
   "source": [
    "summary.metadata"
   ]
  },
  {
   "cell_type": "code",
   "execution_count": null,
   "metadata": {},
   "outputs": [],
   "source": [
    "# Import correlation egdes"
   ]
  },
  {
   "cell_type": "code",
   "execution_count": 4,
   "metadata": {},
   "outputs": [],
   "source": [
    "from neo4j import GraphDatabase\n",
    "\n",
    "# URI examples: \"neo4j://localhost\", \"neo4j+s://xxx.databases.neo4j.io\"\n",
    "URI = \"neo4j://localhost\"\n",
    "USER = \"neo4j\"\n",
    "PASSWORD = \"20000000\"\n",
    "AUTH = (USER, PASSWORD)\n",
    "\n",
    "with GraphDatabase.driver(URI, auth=AUTH) as driver:\n",
    "    driver.verify_connectivity()"
   ]
  },
  {
   "cell_type": "code",
   "execution_count": null,
   "metadata": {},
   "outputs": [],
   "source": [
    "summary = driver.execute_query(\n",
    "    \"CREATE (:Person {name: $name})\",\n",
    "    name=\"Alice\",\n",
    "    database_=\"neo4j\",\n",
    ").summary\n",
    "\n",
    "print(\"Created {nodes_created} nodes in {time} ms.\".format(\n",
    "    nodes_created=summary.counters.nodes_created,\n",
    "    time=summary.result_available_after\n",
    "))\n",
    "\n"
   ]
  }
 ],
 "metadata": {
  "kernelspec": {
   "display_name": "newbase",
   "language": "python",
   "name": "python3"
  },
  "language_info": {
   "codemirror_mode": {
    "name": "ipython",
    "version": 3
   },
   "file_extension": ".py",
   "mimetype": "text/x-python",
   "name": "python",
   "nbconvert_exporter": "python",
   "pygments_lexer": "ipython3",
   "version": "3.12.3"
  }
 },
 "nbformat": 4,
 "nbformat_minor": 2
}
